{
 "cells": [
  {
   "cell_type": "code",
   "execution_count": 1,
   "id": "99cff8f6",
   "metadata": {},
   "outputs": [],
   "source": [
    "# importing necessary libraries\n",
    "import numpy as np\n",
    "import pandas as pd\n",
    "import matplotlib.pyplot as plt"
   ]
  },
  {
   "cell_type": "code",
   "execution_count": 2,
   "id": "ac7c27a5",
   "metadata": {},
   "outputs": [],
   "source": [
    "# importing dataset\n",
    "df = pd.read_csv('../DataSet/MNIST/mnist_train.csv')"
   ]
  },
  {
   "cell_type": "code",
   "execution_count": 3,
   "id": "5af46766",
   "metadata": {},
   "outputs": [
    {
     "data": {
      "text/html": [
       "<div>\n",
       "<style scoped>\n",
       "    .dataframe tbody tr th:only-of-type {\n",
       "        vertical-align: middle;\n",
       "    }\n",
       "\n",
       "    .dataframe tbody tr th {\n",
       "        vertical-align: top;\n",
       "    }\n",
       "\n",
       "    .dataframe thead th {\n",
       "        text-align: right;\n",
       "    }\n",
       "</style>\n",
       "<table border=\"1\" class=\"dataframe\">\n",
       "  <thead>\n",
       "    <tr style=\"text-align: right;\">\n",
       "      <th></th>\n",
       "      <th>label</th>\n",
       "      <th>1x1</th>\n",
       "      <th>1x2</th>\n",
       "      <th>1x3</th>\n",
       "      <th>1x4</th>\n",
       "      <th>1x5</th>\n",
       "      <th>1x6</th>\n",
       "      <th>1x7</th>\n",
       "      <th>1x8</th>\n",
       "      <th>1x9</th>\n",
       "      <th>...</th>\n",
       "      <th>28x19</th>\n",
       "      <th>28x20</th>\n",
       "      <th>28x21</th>\n",
       "      <th>28x22</th>\n",
       "      <th>28x23</th>\n",
       "      <th>28x24</th>\n",
       "      <th>28x25</th>\n",
       "      <th>28x26</th>\n",
       "      <th>28x27</th>\n",
       "      <th>28x28</th>\n",
       "    </tr>\n",
       "  </thead>\n",
       "  <tbody>\n",
       "    <tr>\n",
       "      <th>0</th>\n",
       "      <td>5</td>\n",
       "      <td>0</td>\n",
       "      <td>0</td>\n",
       "      <td>0</td>\n",
       "      <td>0</td>\n",
       "      <td>0</td>\n",
       "      <td>0</td>\n",
       "      <td>0</td>\n",
       "      <td>0</td>\n",
       "      <td>0</td>\n",
       "      <td>...</td>\n",
       "      <td>0</td>\n",
       "      <td>0</td>\n",
       "      <td>0</td>\n",
       "      <td>0</td>\n",
       "      <td>0</td>\n",
       "      <td>0</td>\n",
       "      <td>0</td>\n",
       "      <td>0</td>\n",
       "      <td>0</td>\n",
       "      <td>0</td>\n",
       "    </tr>\n",
       "    <tr>\n",
       "      <th>1</th>\n",
       "      <td>0</td>\n",
       "      <td>0</td>\n",
       "      <td>0</td>\n",
       "      <td>0</td>\n",
       "      <td>0</td>\n",
       "      <td>0</td>\n",
       "      <td>0</td>\n",
       "      <td>0</td>\n",
       "      <td>0</td>\n",
       "      <td>0</td>\n",
       "      <td>...</td>\n",
       "      <td>0</td>\n",
       "      <td>0</td>\n",
       "      <td>0</td>\n",
       "      <td>0</td>\n",
       "      <td>0</td>\n",
       "      <td>0</td>\n",
       "      <td>0</td>\n",
       "      <td>0</td>\n",
       "      <td>0</td>\n",
       "      <td>0</td>\n",
       "    </tr>\n",
       "    <tr>\n",
       "      <th>2</th>\n",
       "      <td>4</td>\n",
       "      <td>0</td>\n",
       "      <td>0</td>\n",
       "      <td>0</td>\n",
       "      <td>0</td>\n",
       "      <td>0</td>\n",
       "      <td>0</td>\n",
       "      <td>0</td>\n",
       "      <td>0</td>\n",
       "      <td>0</td>\n",
       "      <td>...</td>\n",
       "      <td>0</td>\n",
       "      <td>0</td>\n",
       "      <td>0</td>\n",
       "      <td>0</td>\n",
       "      <td>0</td>\n",
       "      <td>0</td>\n",
       "      <td>0</td>\n",
       "      <td>0</td>\n",
       "      <td>0</td>\n",
       "      <td>0</td>\n",
       "    </tr>\n",
       "    <tr>\n",
       "      <th>3</th>\n",
       "      <td>1</td>\n",
       "      <td>0</td>\n",
       "      <td>0</td>\n",
       "      <td>0</td>\n",
       "      <td>0</td>\n",
       "      <td>0</td>\n",
       "      <td>0</td>\n",
       "      <td>0</td>\n",
       "      <td>0</td>\n",
       "      <td>0</td>\n",
       "      <td>...</td>\n",
       "      <td>0</td>\n",
       "      <td>0</td>\n",
       "      <td>0</td>\n",
       "      <td>0</td>\n",
       "      <td>0</td>\n",
       "      <td>0</td>\n",
       "      <td>0</td>\n",
       "      <td>0</td>\n",
       "      <td>0</td>\n",
       "      <td>0</td>\n",
       "    </tr>\n",
       "    <tr>\n",
       "      <th>4</th>\n",
       "      <td>9</td>\n",
       "      <td>0</td>\n",
       "      <td>0</td>\n",
       "      <td>0</td>\n",
       "      <td>0</td>\n",
       "      <td>0</td>\n",
       "      <td>0</td>\n",
       "      <td>0</td>\n",
       "      <td>0</td>\n",
       "      <td>0</td>\n",
       "      <td>...</td>\n",
       "      <td>0</td>\n",
       "      <td>0</td>\n",
       "      <td>0</td>\n",
       "      <td>0</td>\n",
       "      <td>0</td>\n",
       "      <td>0</td>\n",
       "      <td>0</td>\n",
       "      <td>0</td>\n",
       "      <td>0</td>\n",
       "      <td>0</td>\n",
       "    </tr>\n",
       "  </tbody>\n",
       "</table>\n",
       "<p>5 rows × 785 columns</p>\n",
       "</div>"
      ],
      "text/plain": [
       "   label  1x1  1x2  1x3  1x4  1x5  1x6  1x7  1x8  1x9  ...  28x19  28x20  \\\n",
       "0      5    0    0    0    0    0    0    0    0    0  ...      0      0   \n",
       "1      0    0    0    0    0    0    0    0    0    0  ...      0      0   \n",
       "2      4    0    0    0    0    0    0    0    0    0  ...      0      0   \n",
       "3      1    0    0    0    0    0    0    0    0    0  ...      0      0   \n",
       "4      9    0    0    0    0    0    0    0    0    0  ...      0      0   \n",
       "\n",
       "   28x21  28x22  28x23  28x24  28x25  28x26  28x27  28x28  \n",
       "0      0      0      0      0      0      0      0      0  \n",
       "1      0      0      0      0      0      0      0      0  \n",
       "2      0      0      0      0      0      0      0      0  \n",
       "3      0      0      0      0      0      0      0      0  \n",
       "4      0      0      0      0      0      0      0      0  \n",
       "\n",
       "[5 rows x 785 columns]"
      ]
     },
     "execution_count": 3,
     "metadata": {},
     "output_type": "execute_result"
    }
   ],
   "source": [
    "df.head()"
   ]
  },
  {
   "cell_type": "code",
   "execution_count": 4,
   "id": "3f85f676",
   "metadata": {},
   "outputs": [
    {
     "name": "stdout",
     "output_type": "stream",
     "text": [
      "[[5 0 0 ... 0 0 0]\n",
      " [0 0 0 ... 0 0 0]\n",
      " [4 0 0 ... 0 0 0]\n",
      " ...\n",
      " [5 0 0 ... 0 0 0]\n",
      " [6 0 0 ... 0 0 0]\n",
      " [8 0 0 ... 0 0 0]]\n"
     ]
    }
   ],
   "source": [
    "data = df.values\n",
    "print(data)"
   ]
  },
  {
   "cell_type": "code",
   "execution_count": 5,
   "id": "541c2499",
   "metadata": {},
   "outputs": [],
   "source": [
    "train_x = data[:,1:] # array of class corresponding to each pixel (1x1 to 28x28)\n",
    "train_y = data[:,:1] # label belonging to each row of array"
   ]
  },
  {
   "cell_type": "code",
   "execution_count": 6,
   "id": "cb546436",
   "metadata": {},
   "outputs": [
    {
     "name": "stdout",
     "output_type": "stream",
     "text": [
      "[[0 0 0 ... 0 0 0]\n",
      " [0 0 0 ... 0 0 0]\n",
      " [0 0 0 ... 0 0 0]\n",
      " ...\n",
      " [0 0 0 ... 0 0 0]\n",
      " [0 0 0 ... 0 0 0]\n",
      " [0 0 0 ... 0 0 0]]\n",
      "(60000, 784)\n"
     ]
    }
   ],
   "source": [
    "print(train_x)\n",
    "print(train_x.shape)"
   ]
  },
  {
   "cell_type": "code",
   "execution_count": 7,
   "id": "cebe0b3a",
   "metadata": {},
   "outputs": [
    {
     "name": "stdout",
     "output_type": "stream",
     "text": [
      "[[5]\n",
      " [0]\n",
      " [4]\n",
      " ...\n",
      " [5]\n",
      " [6]\n",
      " [8]]\n",
      "(60000, 1)\n"
     ]
    }
   ],
   "source": [
    "print(train_y)\n",
    "print(train_y.shape)"
   ]
  },
  {
   "cell_type": "code",
   "execution_count": 8,
   "id": "383bf7de",
   "metadata": {},
   "outputs": [
    {
     "data": {
      "text/plain": [
       "array([5, 0, 4, ..., 5, 6, 8], dtype=int64)"
      ]
     },
     "execution_count": 8,
     "metadata": {},
     "output_type": "execute_result"
    }
   ],
   "source": [
    "train_y = train_y.reshape(-1,)\n",
    "train_y"
   ]
  },
  {
   "cell_type": "code",
   "execution_count": 9,
   "id": "fd7ceda4",
   "metadata": {},
   "outputs": [
    {
     "data": {
      "image/png": "[encoded data removed]",
      "text/plain": [
       "<Figure size 432x288 with 1 Axes>"
      ]
     },
     "metadata": {
      "needs_background": "light"
     },
     "output_type": "display_data"
    }
   ],
   "source": [
    "# visualize some samples by drawing their image\n",
    "def drawImage(sample):\n",
    "    \n",
    "    # reshape that image\n",
    "    img = sample.reshape(28,28)\n",
    "    plt.imshow(img, cmap='gray')\n",
    "    plt.show()\n",
    "\n",
    "# lets test for train_x[0] image\n",
    "drawImage(train_x[0])"
   ]
  },
  {
   "cell_type": "code",
   "execution_count": 10,
   "id": "973211f2",
   "metadata": {},
   "outputs": [],
   "source": [
    "# KNN code\n",
    "def distance(x1, x2):\n",
    "    return np.sqrt(sum((x1-x2)**2))\n",
    "\n",
    "\n",
    "\n",
    "def knn(x, y, queryPt, k=5):\n",
    "    \n",
    "    vals = []\n",
    "    for i in range(x.shape[0]):\n",
    "        d = distance(queryPt, x[i])\n",
    "        vals.append((d,y[i]))\n",
    "    \n",
    "    vals = sorted(vals)\n",
    "    vals = vals[:k]\n",
    "    \n",
    "    vals = np.array(vals)\n",
    "    new_vals = np.unique(vals[:,1], return_counts = True)\n",
    "    index = new_vals[1].argmax()\n",
    "    pred = new_vals[0][index]\n",
    "    \n",
    "    return pred\n",
    "    "
   ]
  },
  {
   "cell_type": "code",
   "execution_count": 11,
   "id": "5f08e468",
   "metadata": {},
   "outputs": [],
   "source": [
    "# preprocessing test data\n",
    "data = pd.read_csv('../DataSet/MNIST/mnist_test.csv')\n",
    "data = data.values"
   ]
  },
  {
   "cell_type": "code",
   "execution_count": 12,
   "id": "f8ebe015",
   "metadata": {},
   "outputs": [],
   "source": [
    "test_x = data[:,1:]\n",
    "test_y = data[:,:1]"
   ]
  },
  {
   "cell_type": "code",
   "execution_count": 13,
   "id": "d08995f5",
   "metadata": {},
   "outputs": [
    {
     "name": "stdout",
     "output_type": "stream",
     "text": [
      "[[0 0 0 ... 0 0 0]\n",
      " [0 0 0 ... 0 0 0]\n",
      " [0 0 0 ... 0 0 0]\n",
      " ...\n",
      " [0 0 0 ... 0 0 0]\n",
      " [0 0 0 ... 0 0 0]\n",
      " [0 0 0 ... 0 0 0]]\n",
      "[7 2 1 ... 4 5 6]\n"
     ]
    }
   ],
   "source": [
    "print(test_x)\n",
    "test_y = test_y.reshape(-1,)\n",
    "print(test_y)"
   ]
  },
  {
   "cell_type": "code",
   "execution_count": 14,
   "id": "684e2ff2",
   "metadata": {},
   "outputs": [
    {
     "data": {
      "text/plain": [
       "7.0"
      ]
     },
     "execution_count": 14,
     "metadata": {},
     "output_type": "execute_result"
    }
   ],
   "source": [
    "knn(train_x, train_y, test_x[0])"
   ]
  },
  {
   "cell_type": "code",
   "execution_count": 15,
   "id": "fe0d171e",
   "metadata": {},
   "outputs": [
    {
     "data": {
      "image/png": "[encoded data removed]",
      "text/plain": [
       "<Figure size 432x288 with 1 Axes>"
      ]
     },
     "metadata": {
      "needs_background": "light"
     },
     "output_type": "display_data"
    }
   ],
   "source": [
    "drawImage(test_x[0])"
   ]
  },
  {
   "cell_type": "code",
   "execution_count": 16,
   "id": "f0df364a",
   "metadata": {},
   "outputs": [
    {
     "name": "stdout",
     "output_type": "stream",
     "text": [
      "Requirement already satisfied: opencv-python in c:\\users\\teesh\\anaconda3\\lib\\site-packages (4.7.0.72)\n",
      "Requirement already satisfied: numpy>=1.17.3 in c:\\users\\teesh\\anaconda3\\lib\\site-packages (from opencv-python) (1.21.5)\n",
      "Note: you may need to restart the kernel to use updated packages.\n"
     ]
    }
   ],
   "source": [
    "pip install opencv-python"
   ]
  },
  {
   "cell_type": "code",
   "execution_count": 17,
   "id": "4af96391",
   "metadata": {},
   "outputs": [],
   "source": [
    "# lets test for our image we created in paint\n",
    "\n",
    "import os\n",
    "import cv2"
   ]
  },
  {
   "cell_type": "code",
   "execution_count": 73,
   "id": "0db883f8",
   "metadata": {},
   "outputs": [],
   "source": [
    "image_number = 1\n",
    "\n",
    "img = cv2.imread(f\"../DataSet/Random Tests image/img6.png\")[:,:,0]"
   ]
  },
  {
   "cell_type": "code",
   "execution_count": 74,
   "id": "b206f27b",
   "metadata": {},
   "outputs": [
    {
     "name": "stdout",
     "output_type": "stream",
     "text": [
      "[[255 255 255 255 255 255 255 255 255 255 255 255 255 255 255 255 255 255\n",
      "  255 255 255 255 255 255 255 255 255 255]\n",
      " [255 255 255 255 255 255 255 255 255 255 255 255 255 255 255 255 255 255\n",
      "  255 255 255 255 255 255 255 255 255 255]\n",
      " [255 255 255 255 255 255 183  32   0   0  32 159 255 255 255 255 255 255\n",
      "  255 255 255 255 255 255 255 255 255 255]\n",
      " [255 255 255 255 183  32   0   0   0   0   0   0  32 159 255 255 255 255\n",
      "  255 255 255 255 255 255 255 255 255 255]\n",
      " [255 255 255 183  16   0   0   0   0   0   0   0   0   0  32 159 255 255\n",
      "  255 255 255 255 255 255 255 255 255 255]\n",
      " [255 255 183  16   0   0   0   0 104 135   0   0   0   0   0   8 255 255\n",
      "  255 255 255 255 255 255 255 255 255 255]\n",
      " [255 255  24   0   0   0 104 255 255 255 183  16   0   0   0   0 255 255\n",
      "  255 255 255 255 255 255 255 255 255 255]\n",
      " [255 255   8   0   0   8 255 255 255 255  24   0   0   0   0 104 255 255\n",
      "  255 255 255 255 255 255 255 255 255 255]\n",
      " [255 255 135   0   0   0 159 255 159  32   0   0   0   0   0 255 255 255\n",
      "  255 255 255 255 255 255 255 255 255 255]\n",
      " [255 255 255   8   0   0   0   0   0   0   0   0   0   0   0 255 255 255\n",
      "  255 255 255 255 255 255 255 255 255 255]\n",
      " [255 255 255 135   0   0   0   0   0   0   0   0   0   0   0 255 255 255\n",
      "  255 255 255 255 255 255 255 255 255 255]\n",
      " [255 255 255 255 135   0   0   0   0  88 247 255   0   0   0 255 255 255\n",
      "  255 255 255 255 255 255 255 255 255 255]\n",
      " [255 255 255 255 255 255 255 255 255 255 255 255   8   0   0 135 255 255\n",
      "  255 255 255 255 255 255 255 255 255 255]\n",
      " [255 255 255 255 255 255 255 255 255 255 255 255 112   0   0   8 255 255\n",
      "  255 255 255 255 255 255 255 255 255 255]\n",
      " [255 255 255 255 255 255 255 255 255 255 255 255 247   0   0   0 255 255\n",
      "  255 255 255 255 255 255 255 255 255 255]\n",
      " [255 255 255 255 255 255 255 255 255 255 255 255 255   0   0   0 255 255\n",
      "  255 255 255 255 255 255 255 255 255 255]\n",
      " [255 255 255 255 255 255 255 255 255 255 255 255 255   0   0   0 255 255\n",
      "  255 255 255 255 255 255 255 255 255 255]\n",
      " [255 255 255 255 255 255 255 255 255 255 255 255 255   0   0   0 255 255\n",
      "  255 255 255 255 255 255 255 255 255 255]\n",
      " [255 255 255 255 255 255 255 255 255 255 255 255 255   0   0   0 255 255\n",
      "  255 255 255 255 255 255 255 255 255 255]\n",
      " [255 255 183  64 159 255 255 255 255 255 255 255 255   0   0   0 255 255\n",
      "  255 255 255 255 255 255 255 255 255 255]\n",
      " [255 255  24   0   8 255 255 255 255 255 255 255 183   0   0   0 255 255\n",
      "  255 255 255 255 255 255 255 255 255 255]\n",
      " [255 255   0   0   0 159 255 255 255 255 255 255  24   0   0   0 255 255\n",
      "  255 255 255 255 255 255 255 255 255 255]\n",
      " [255 255   8   0   0   8 159 255 255 255 255 183   0   0   0 104 255 255\n",
      "  255 255 255 255 255 255 255 255 255 255]\n",
      " [255 255 135   0   0   0   0  32 159 183  32   0   0   0   0 255 255 255\n",
      "  255 255 255 255 255 255 255 255 255 255]\n",
      " [255 255 255 135   0   0   0   0   0   0   0   0   0   0 104 255 255 255\n",
      "  255 255 255 255 255 255 255 255 255 255]\n",
      " [255 255 255 255 135   0   0   0   0   0   0   0   0 104 255 255 255 255\n",
      "  255 255 255 255 255 255 255 255 255 255]\n",
      " [255 255 255 255 255 255 135   0   0   0   0 104 255 255 255 255 255 255\n",
      "  255 255 255 255 255 255 255 255 255 255]\n",
      " [255 255 255 255 255 255 255 255 255 255 255 255 255 255 255 255 255 255\n",
      "  255 255 255 255 255 255 255 255 255 255]]\n"
     ]
    }
   ],
   "source": [
    "print(img)"
   ]
  },
  {
   "cell_type": "code",
   "execution_count": 75,
   "id": "706501cb",
   "metadata": {},
   "outputs": [],
   "source": [
    "# np.invert?"
   ]
  },
  {
   "cell_type": "code",
   "execution_count": 76,
   "id": "8351ccce",
   "metadata": {},
   "outputs": [
    {
     "name": "stdout",
     "output_type": "stream",
     "text": [
      "(28, 28)\n"
     ]
    }
   ],
   "source": [
    "img2 = np.invert(np.array(img))\n",
    "print(img2.shape)"
   ]
  },
  {
   "cell_type": "code",
   "execution_count": 77,
   "id": "647f64d6",
   "metadata": {},
   "outputs": [],
   "source": [
    "img3 = img2.reshape(1,-1)"
   ]
  },
  {
   "cell_type": "code",
   "execution_count": 78,
   "id": "2a5784c7",
   "metadata": {},
   "outputs": [
    {
     "data": {
      "text/plain": [
       "(1, 784)"
      ]
     },
     "execution_count": 78,
     "metadata": {},
     "output_type": "execute_result"
    }
   ],
   "source": [
    "img3.shape"
   ]
  },
  {
   "cell_type": "code",
   "execution_count": 79,
   "id": "96d3bd11",
   "metadata": {},
   "outputs": [
    {
     "name": "stdout",
     "output_type": "stream",
     "text": [
      "[[  0   0   0   0   0   0   0   0   0   0   0   0   0   0   0   0   0   0\n",
      "    0   0   0   0   0   0   0   0   0   0   0   0   0   0   0   0   0   0\n",
      "    0   0   0   0   0   0   0   0   0   0   0   0   0   0   0   0   0   0\n",
      "    0   0   0   0   0   0   0   0  72 223 255 255 223  96   0   0   0   0\n",
      "    0   0   0   0   0   0   0   0   0   0   0   0   0   0   0   0  72 223\n",
      "  255 255 255 255 255 255 223  96   0   0   0   0   0   0   0   0   0   0\n",
      "    0   0   0   0   0   0   0  72 239 255 255 255 255 255 255 255 255 255\n",
      "  223  96   0   0   0   0   0   0   0   0   0   0   0   0   0   0  72 239\n",
      "  255 255 255 255 151 120 255 255 255 255 255 247   0   0   0   0   0   0\n",
      "    0   0   0   0   0   0   0   0 231 255 255 255 151   0   0   0  72 239\n",
      "  255 255 255 255   0   0   0   0   0   0   0   0   0   0   0   0   0   0\n",
      "  247 255 255 247   0   0   0   0 231 255 255 255 255 151   0   0   0   0\n",
      "    0   0   0   0   0   0   0   0   0   0 120 255 255 255  96   0  96 223\n",
      "  255 255 255 255 255   0   0   0   0   0   0   0   0   0   0   0   0   0\n",
      "    0   0   0 247 255 255 255 255 255 255 255 255 255 255 255   0   0   0\n",
      "    0   0   0   0   0   0   0   0   0   0   0   0   0 120 255 255 255 255\n",
      "  255 255 255 255 255 255 255   0   0   0   0   0   0   0   0   0   0   0\n",
      "    0   0   0   0   0   0 120 255 255 255 255 167   8   0 255 255 255   0\n",
      "    0   0   0   0   0   0   0   0   0   0   0   0   0   0   0   0   0   0\n",
      "    0   0   0   0   0   0 247 255 255 120   0   0   0   0   0   0   0   0\n",
      "    0   0   0   0   0   0   0   0   0   0   0   0   0   0   0   0 143 255\n",
      "  255 247   0   0   0   0   0   0   0   0   0   0   0   0   0   0   0   0\n",
      "    0   0   0   0   0   0   0   0   8 255 255 255   0   0   0   0   0   0\n",
      "    0   0   0   0   0   0   0   0   0   0   0   0   0   0   0   0   0   0\n",
      "    0 255 255 255   0   0   0   0   0   0   0   0   0   0   0   0   0   0\n",
      "    0   0   0   0   0   0   0   0   0   0   0 255 255 255   0   0   0   0\n",
      "    0   0   0   0   0   0   0   0   0   0   0   0   0   0   0   0   0   0\n",
      "    0   0   0 255 255 255   0   0   0   0   0   0   0   0   0   0   0   0\n",
      "    0   0   0   0   0   0   0   0   0   0   0   0   0 255 255 255   0   0\n",
      "    0   0   0   0   0   0   0   0   0   0   0   0  72 191  96   0   0   0\n",
      "    0   0   0   0   0 255 255 255   0   0   0   0   0   0   0   0   0   0\n",
      "    0   0   0   0 231 255 247   0   0   0   0   0   0   0  72 255 255 255\n",
      "    0   0   0   0   0   0   0   0   0   0   0   0   0   0 255 255 255  96\n",
      "    0   0   0   0   0   0 231 255 255 255   0   0   0   0   0   0   0   0\n",
      "    0   0   0   0   0   0 247 255 255 247  96   0   0   0   0  72 255 255\n",
      "  255 151   0   0   0   0   0   0   0   0   0   0   0   0   0   0 120 255\n",
      "  255 255 255 223  96  72 223 255 255 255 255   0   0   0   0   0   0   0\n",
      "    0   0   0   0   0   0   0   0   0 120 255 255 255 255 255 255 255 255\n",
      "  255 255 151   0   0   0   0   0   0   0   0   0   0   0   0   0   0   0\n",
      "    0   0 120 255 255 255 255 255 255 255 255 151   0   0   0   0   0   0\n",
      "    0   0   0   0   0   0   0   0   0   0   0   0   0   0 120 255 255 255\n",
      "  255 151   0   0   0   0   0   0   0   0   0   0   0   0   0   0   0   0\n",
      "    0   0   0   0   0   0   0   0   0   0   0   0   0   0   0   0   0   0\n",
      "    0   0   0   0   0   0   0   0   0   0]]\n"
     ]
    }
   ],
   "source": [
    "print(img3)"
   ]
  },
  {
   "cell_type": "code",
   "execution_count": 80,
   "id": "8a3dedcb",
   "metadata": {
    "scrolled": true
   },
   "outputs": [
    {
     "data": {
      "text/plain": [
       "1.0"
      ]
     },
     "execution_count": 80,
     "metadata": {},
     "output_type": "execute_result"
    }
   ],
   "source": [
    "knn(train_x, train_y, img3[0])"
   ]
  },
  {
   "cell_type": "code",
   "execution_count": 85,
   "id": "682b6604",
   "metadata": {},
   "outputs": [
    {
     "name": "stdout",
     "output_type": "stream",
     "text": [
      "3.0\n",
      "9.0\n",
      "3.0\n",
      "7.0\n",
      "0.0\n",
      "4.0\n",
      "2.0\n",
      "2.0\n",
      "1.0\n",
      "2.0\n"
     ]
    }
   ],
   "source": [
    "image_number = 1\n",
    "\n",
    "while os.path.isfile(f\"../DataSet/Random Tests image/img{image_number}.png\"):\n",
    "    try:\n",
    "        img = cv2.imread(f\"../DataSet/Random Tests image/img{image_number}.png\")[:,:,0]\n",
    "        img2 = np.invert(np.array([img]))\n",
    "        img3 = img2.reshape(1,-1)\n",
    "        pred = knn(train_x, train_y, img3[0])\n",
    "        print(pred)\n",
    "    except:\n",
    "        print(\"Error!\")\n",
    "    finally:\n",
    "        image_number += 1"
   ]
  },
  {
   "cell_type": "code",
   "execution_count": null,
   "id": "7a376324",
   "metadata": {},
   "outputs": [],
   "source": []
  }
 ],
 "metadata": {
  "kernelspec": {
   "display_name": "Python 3 (ipykernel)",
   "language": "python",
   "name": "python3"
  },
  "language_info": {
   "codemirror_mode": {
    "name": "ipython",
    "version": 3
   },
   "file_extension": ".py",
   "mimetype": "text/x-python",
   "name": "python",
   "nbconvert_exporter": "python",
   "pygments_lexer": "ipython3",
   "version": "3.9.12"
  }
 },
 "nbformat": 4,
 "nbformat_minor": 5
}
