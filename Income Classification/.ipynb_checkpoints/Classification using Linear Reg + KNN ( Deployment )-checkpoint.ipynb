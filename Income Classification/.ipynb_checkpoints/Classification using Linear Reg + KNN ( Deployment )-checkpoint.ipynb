{
 "cells": [
  {
   "cell_type": "markdown",
   "id": "134e3512",
   "metadata": {},
   "source": [
    "## CLASSIFYING PERSONAL INCOME"
   ]
  },
  {
   "cell_type": "code",
   "execution_count": null,
   "id": "107613ba",
   "metadata": {},
   "outputs": [],
   "source": [
    "############### IMPORTING NECCESSARY LIBRARIES ##############################\n",
    "\n",
    "# To work with dataframes\n",
    "import pandas as pd\n",
    "\n",
    "# To perform numerical operations\n",
    "import numpy as np\n",
    "\n",
    "# To visualize data\n",
    "import seaborn as sns\n",
    "\n",
    "# To partition the data\n",
    "from sklearn.model_selection import train_test_split\n",
    "\n",
    "# Importing library for logistic regression\n",
    "from sklearn.linear_model import LogisticRegression\n",
    "\n",
    "# Importing performance metrics - accuracy score & confusion matrix\n",
    "from sklearn.metrics import accuracy_score,confusion_matrix\n"
   ]
  },
  {
   "cell_type": "code",
   "execution_count": null,
   "id": "6d5c16f5",
   "metadata": {},
   "outputs": [],
   "source": [
    "# importing data\n",
    "\n",
    "data_income = pd.read_csv(r\"C:\\Users\\teesh\\Downloads\\income(1).csv\")"
   ]
  },
  {
   "cell_type": "code",
   "execution_count": null,
   "id": "4083a31a",
   "metadata": {},
   "outputs": [],
   "source": [
    "data_income.head()"
   ]
  },
  {
   "cell_type": "code",
   "execution_count": null,
   "id": "ee54ea91",
   "metadata": {},
   "outputs": [],
   "source": [
    "# creating copy of original data\n",
    "data = data_income.copy()"
   ]
  },
  {
   "cell_type": "markdown",
   "id": "d2541a32",
   "metadata": {},
   "source": [
    "## EXPLORATORY DATA ANALYSIS\n",
    "\n",
    "### 1. getting to know data\n",
    "### 2. Data preprocesing (Missing Values)\n",
    "### 3. Cross tables and data visualization"
   ]
  },
  {
   "cell_type": "code",
   "execution_count": null,
   "id": "cf383617",
   "metadata": {},
   "outputs": [],
   "source": [
    "# knowing given data\n",
    "# check variables data type\n",
    "print(data.info())"
   ]
  },
  {
   "cell_type": "code",
   "execution_count": null,
   "id": "ae73cc8b",
   "metadata": {},
   "outputs": [],
   "source": [
    "data.isnull()"
   ]
  },
  {
   "cell_type": "code",
   "execution_count": null,
   "id": "15b126ae",
   "metadata": {},
   "outputs": [],
   "source": [
    "data.isnull().sum()"
   ]
  },
  {
   "cell_type": "code",
   "execution_count": null,
   "id": "a7c84980",
   "metadata": {},
   "outputs": [],
   "source": [
    "# summary of numerical variables  (descriptive statistics)\n",
    "summary_num = data.describe()\n",
    "print(summary_num)"
   ]
  },
  {
   "cell_type": "markdown",
   "id": "73ea694b",
   "metadata": {},
   "source": [
    "#### count  = count of observation under variable\n",
    "#### mean = avg age is 38 yrs\n",
    "#### std = 14\n",
    "#### min age =17\n",
    "#### 25% people age less than 28 yrs\n",
    "#### 50% people age less than 37yrs\n",
    "#### 75% people age less than 48yrs\n",
    "#### max age is 90yrs"
   ]
  },
  {
   "cell_type": "code",
   "execution_count": null,
   "id": "5935c2f6",
   "metadata": {},
   "outputs": [],
   "source": [
    "# summary of categorical variables\n",
    "summary_cat = data.describe(include = 'object')\n",
    "print(summary_cat)"
   ]
  },
  {
   "cell_type": "code",
   "execution_count": null,
   "id": "91a141a4",
   "metadata": {},
   "outputs": [],
   "source": [
    "# frequency of each categories under one column\n",
    "data[\"JobType\"].value_counts()"
   ]
  },
  {
   "cell_type": "code",
   "execution_count": null,
   "id": "02ab499e",
   "metadata": {},
   "outputs": [],
   "source": [
    "data[\"occupation\"].value_counts()"
   ]
  },
  {
   "cell_type": "code",
   "execution_count": null,
   "id": "6c0a8fbc",
   "metadata": {},
   "outputs": [],
   "source": [
    "print(np.unique(data[\"JobType\"]))"
   ]
  },
  {
   "cell_type": "code",
   "execution_count": null,
   "id": "02756c59",
   "metadata": {},
   "outputs": [],
   "source": [
    "print(np.unique(data['occupation']))"
   ]
  },
  {
   "cell_type": "code",
   "execution_count": null,
   "id": "cdc86b77",
   "metadata": {},
   "outputs": [],
   "source": [
    "data = pd.read_csv(r\"C:\\Users\\teesh\\Downloads\\income(1).csv\",na_values=[\" ?\"])"
   ]
  },
  {
   "cell_type": "code",
   "execution_count": null,
   "id": "ca26b583",
   "metadata": {},
   "outputs": [],
   "source": [
    "data[\"JobType\"].value_counts()"
   ]
  },
  {
   "cell_type": "code",
   "execution_count": null,
   "id": "aec3b0a5",
   "metadata": {},
   "outputs": [],
   "source": [
    "data[\"occupation\"].value_counts()"
   ]
  },
  {
   "cell_type": "code",
   "execution_count": null,
   "id": "bf73693f",
   "metadata": {},
   "outputs": [],
   "source": [
    "data.isnull().sum()"
   ]
  },
  {
   "cell_type": "code",
   "execution_count": null,
   "id": "5205f547",
   "metadata": {},
   "outputs": [],
   "source": [
    "missing = data[data.isnull().any(axis=1)]"
   ]
  },
  {
   "cell_type": "code",
   "execution_count": null,
   "id": "fb3c2f18",
   "metadata": {
    "scrolled": false
   },
   "outputs": [],
   "source": [
    "display(missing)"
   ]
  },
  {
   "cell_type": "code",
   "execution_count": null,
   "id": "066dd343",
   "metadata": {},
   "outputs": [],
   "source": [
    "missing[\"occupation\"].value_counts()"
   ]
  },
  {
   "cell_type": "code",
   "execution_count": null,
   "id": "4873522e",
   "metadata": {},
   "outputs": [],
   "source": [
    "missing[\"JobType\"].value_counts()"
   ]
  },
  {
   "cell_type": "markdown",
   "id": "c0c4a142",
   "metadata": {},
   "source": [
    "### OUTCOMES\n",
    "all entries in \"occupation\" column is NAN\n",
    "total entries in JobType = 1816\n",
    "entries with JobType being Never-Worked = 7\n",
    "\n",
    "entries where JobType is Never-Worked and occupation is NAN = 7\n",
    "remaining entries = 1816 - 7 = 1809"
   ]
  },
  {
   "cell_type": "markdown",
   "id": "01beaabe",
   "metadata": {},
   "source": [
    "### In this case we'll remove the rows with missing places"
   ]
  },
  {
   "cell_type": "code",
   "execution_count": null,
   "id": "c88853ce",
   "metadata": {},
   "outputs": [],
   "source": [
    "data2 = data.dropna(axis=0)"
   ]
  },
  {
   "cell_type": "code",
   "execution_count": null,
   "id": "1f725ce3",
   "metadata": {},
   "outputs": [],
   "source": [
    "data2"
   ]
  },
  {
   "cell_type": "code",
   "execution_count": null,
   "id": "bc3a511c",
   "metadata": {},
   "outputs": [],
   "source": [
    "# relationship between independent variables\n",
    "correlation = data2.corr()"
   ]
  },
  {
   "cell_type": "code",
   "execution_count": null,
   "id": "c89653e5",
   "metadata": {},
   "outputs": [],
   "source": [
    "print(correlation)"
   ]
  },
  {
   "cell_type": "markdown",
   "id": "3d1d11a7",
   "metadata": {},
   "source": [
    "### Outcome\n",
    "none of the values are nearer to 1. most of the values are nearer to 0 which means none of the variables are correlated to each other . if values closer to 1 it means those variables are strongly correlated to each other in positive manner and if values closer to -1 it means the variables are strongly related in negative manner. if closer to 0 it means no correlation between variables ."
   ]
  },
  {
   "cell_type": "code",
   "execution_count": null,
   "id": "d01bb6cf",
   "metadata": {},
   "outputs": [],
   "source": [
    "# cross tables and data visualization\n",
    "data2.columns"
   ]
  },
  {
   "cell_type": "code",
   "execution_count": null,
   "id": "f564e25b",
   "metadata": {},
   "outputs": [],
   "source": [
    "# gender proportion\n",
    "gender = pd.crosstab(index = data2[\"gender\"],columns='count',normalize=True)\n",
    "print(gender)"
   ]
  },
  {
   "cell_type": "code",
   "execution_count": null,
   "id": "95b55310",
   "metadata": {
    "scrolled": false
   },
   "outputs": [],
   "source": [
    "# gender vs salary status\n",
    "gender_salstat = pd.crosstab(index = data2[\"gender\"],columns=data2[\"SalStat\"],normalize='index',margins=True)\n",
    "print(gender_salstat)"
   ]
  },
  {
   "cell_type": "markdown",
   "id": "c723d460",
   "metadata": {},
   "source": [
    "### under classification problems we need to know how balanced our class values are . for this we use plots to determine the salary status"
   ]
  },
  {
   "cell_type": "code",
   "execution_count": null,
   "id": "047f3a8c",
   "metadata": {},
   "outputs": [],
   "source": [
    "# frequency distribution of Salary status\n",
    "salstat = sns.countplot(data2[\"SalStat\"])\n",
    "salstat"
   ]
  },
  {
   "cell_type": "markdown",
   "id": "a63d58ee",
   "metadata": {},
   "source": [
    "## 75% salary corresponds to less than 50,000 and 25% salary corresponds to greater than 50,000"
   ]
  },
  {
   "cell_type": "code",
   "execution_count": null,
   "id": "3eabb9ae",
   "metadata": {},
   "outputs": [],
   "source": [
    "# Histogram for age \n",
    "sns.distplot(data2[\"age\"],kde=False,bins=10)"
   ]
  },
  {
   "cell_type": "markdown",
   "id": "9f4ed23b",
   "metadata": {},
   "source": [
    "### people with age 20-45 are high"
   ]
  },
  {
   "cell_type": "code",
   "execution_count": null,
   "id": "114422f7",
   "metadata": {},
   "outputs": [],
   "source": [
    "# age vs salstat\n",
    "sns.boxplot(\"SalStat\",\"age\",data=data2)\n",
    "data2.groupby(\"SalStat\")[\"age\"].median()"
   ]
  },
  {
   "cell_type": "markdown",
   "id": "56da4d40",
   "metadata": {},
   "source": [
    "## people with 35-50 age are more likely to earn > 50,000 and people with 25-45 age are likely to earn <=50,000"
   ]
  },
  {
   "cell_type": "code",
   "execution_count": null,
   "id": "8a7d09cb",
   "metadata": {},
   "outputs": [],
   "source": [
    "# exploratory data analysis\n",
    "# jobType vs SalStat\n",
    "sns.countplot(y=\"JobType\" , data=data2 , hue=\"SalStat\")"
   ]
  },
  {
   "cell_type": "code",
   "execution_count": null,
   "id": "88cf7649",
   "metadata": {},
   "outputs": [],
   "source": [
    "pd.crosstab(index = data2[\"JobType\"] , columns=data2[\"SalStat\"],normalize='index')"
   ]
  },
  {
   "cell_type": "markdown",
   "id": "f114f603",
   "metadata": {},
   "source": [
    "## JobType important variable in avoiding the misuse of subsides"
   ]
  },
  {
   "cell_type": "code",
   "execution_count": null,
   "id": "67b422d8",
   "metadata": {},
   "outputs": [],
   "source": [
    "sns.countplot(y='EdType',data=data2,hue=\"SalStat\")"
   ]
  },
  {
   "cell_type": "code",
   "execution_count": null,
   "id": "c3e75abf",
   "metadata": {},
   "outputs": [],
   "source": [
    "pd.crosstab(index = data2[\"EdType\"],columns=data2[\"SalStat\"],normalize='index')"
   ]
  },
  {
   "cell_type": "markdown",
   "id": "143c7c10",
   "metadata": {},
   "source": [
    "### those who have done doctorate , masters and Prof-School are more likely to earn >50,000 thus , EdType is an important variable"
   ]
  },
  {
   "cell_type": "code",
   "execution_count": null,
   "id": "51ec4917",
   "metadata": {},
   "outputs": [],
   "source": [
    "sns.countplot(y='occupation',data=data2,hue='SalStat')"
   ]
  },
  {
   "cell_type": "code",
   "execution_count": null,
   "id": "f96d7baf",
   "metadata": {},
   "outputs": [],
   "source": [
    "pd.crosstab(index=data2['occupation'],columns=data2['SalStat'],normalize='index')"
   ]
  },
  {
   "cell_type": "markdown",
   "id": "755cc5dc",
   "metadata": {},
   "source": [
    "### Exec-managerial and Prof-specialty make more than 50,000 per year thus, occupation is an important variable to avoid misuse ."
   ]
  },
  {
   "cell_type": "code",
   "execution_count": null,
   "id": "fd358c6e",
   "metadata": {},
   "outputs": [],
   "source": [
    "sns.distplot(data2[\"capitalgain\"],bins=[0,20000,40000,60000,80000],kde=False)"
   ]
  },
  {
   "cell_type": "code",
   "execution_count": null,
   "id": "bde39cf1",
   "metadata": {},
   "outputs": [],
   "source": [
    "sns.distplot(data2[\"capitalloss\"],bins=[0,1000,2000,3000,4000],kde=False)"
   ]
  },
  {
   "cell_type": "code",
   "execution_count": null,
   "id": "543acd3b",
   "metadata": {
    "scrolled": true
   },
   "outputs": [],
   "source": [
    "sns.boxplot(y=\"hoursperweek\",x=\"SalStat\",data=data2)"
   ]
  },
  {
   "cell_type": "markdown",
   "id": "3b67d9dc",
   "metadata": {},
   "source": [
    "## Logistic Regression"
   ]
  },
  {
   "cell_type": "code",
   "execution_count": null,
   "id": "334b5706",
   "metadata": {},
   "outputs": [],
   "source": [
    "data3 = data2.copy()"
   ]
  },
  {
   "cell_type": "code",
   "execution_count": null,
   "id": "d094fcf2",
   "metadata": {},
   "outputs": [],
   "source": [
    "data4 = data2.copy()"
   ]
  },
  {
   "cell_type": "code",
   "execution_count": null,
   "id": "2c1ff7f6",
   "metadata": {},
   "outputs": [],
   "source": [
    "# reindexing the salary status names to 0,1\n",
    "data3[\"SalStat\"] = data3[\"SalStat\"].map({' less than or equal to 50,000': 0,' greater than 50,000': 1})"
   ]
  },
  {
   "cell_type": "code",
   "execution_count": null,
   "id": "45228c74",
   "metadata": {},
   "outputs": [],
   "source": [
    "data3"
   ]
  },
  {
   "cell_type": "markdown",
   "id": "dce9a1c7",
   "metadata": {},
   "source": [
    "## integer encoding = categorical into numerical"
   ]
  },
  {
   "cell_type": "code",
   "execution_count": null,
   "id": "9ca90a57",
   "metadata": {},
   "outputs": [],
   "source": [
    "new_data = pd.get_dummies(data3, drop_first=True)\n",
    "# categorical variables into dummies one-hot encoding splitting coloumn categorical data to many columns depending on number of categories present in columns"
   ]
  },
  {
   "cell_type": "code",
   "execution_count": null,
   "id": "4a035d14",
   "metadata": {
    "scrolled": false
   },
   "outputs": [],
   "source": [
    "print(np.unique(data3[\"JobType\"]))"
   ]
  },
  {
   "cell_type": "code",
   "execution_count": null,
   "id": "2bea15c8",
   "metadata": {
    "scrolled": false
   },
   "outputs": [],
   "source": [
    "new_data"
   ]
  },
  {
   "cell_type": "code",
   "execution_count": null,
   "id": "22d85e90",
   "metadata": {},
   "outputs": [],
   "source": [
    "# storing the columns name\n",
    "columns_list=list(new_data.columns)\n",
    "print(columns_list)"
   ]
  },
  {
   "cell_type": "code",
   "execution_count": null,
   "id": "902ad56a",
   "metadata": {},
   "outputs": [],
   "source": [
    "# seperating the input names from data\n",
    "features = list(set(columns_list)-set([\"SalStat\"]))\n",
    "print(features)"
   ]
  },
  {
   "cell_type": "code",
   "execution_count": null,
   "id": "406615ca",
   "metadata": {},
   "outputs": [],
   "source": [
    "# storing the output values in y\n",
    "y = new_data[\"SalStat\"].values\n",
    "print(y)\n",
    "y.shape"
   ]
  },
  {
   "cell_type": "code",
   "execution_count": null,
   "id": "59a3c19d",
   "metadata": {},
   "outputs": [],
   "source": [
    "# storing the values from input features\n",
    "x = new_data[features].values\n",
    "print(x)\n",
    "x.shape"
   ]
  },
  {
   "cell_type": "code",
   "execution_count": null,
   "id": "98614d9c",
   "metadata": {},
   "outputs": [],
   "source": [
    "# splitting the data into train and test\n",
    "train_x,test_x,train_y,test_y = train_test_split(x,y,test_size = 0.3, random_state=0)\n",
    "# x input y output test_size => proportion of data include in test split random_state=> same set of sample to be chosen for analyses "
   ]
  },
  {
   "cell_type": "code",
   "execution_count": null,
   "id": "63a3c849",
   "metadata": {},
   "outputs": [],
   "source": [
    "print(test_x.shape)\n",
    "print(test_y.shape)\n",
    "print(train_x.shape)\n",
    "print(train_y.shape)"
   ]
  },
  {
   "cell_type": "code",
   "execution_count": null,
   "id": "b29d932e",
   "metadata": {},
   "outputs": [],
   "source": [
    "train_y"
   ]
  },
  {
   "cell_type": "code",
   "execution_count": null,
   "id": "adc004d6",
   "metadata": {},
   "outputs": [],
   "source": [
    "# make an instance of model\n",
    "logistic = LogisticRegression()"
   ]
  },
  {
   "cell_type": "code",
   "execution_count": null,
   "id": "32adbc6b",
   "metadata": {},
   "outputs": [],
   "source": [
    "from sklearn import linear_model\n",
    "logistic = linear_model.LogisticRegression(solver='lbfgs',max_iter=100000)"
   ]
  },
  {
   "cell_type": "code",
   "execution_count": null,
   "id": "b23e9b70",
   "metadata": {},
   "outputs": [],
   "source": [
    "# fitting values for x and y\n",
    "logistic.fit(train_x,train_y)"
   ]
  },
  {
   "cell_type": "code",
   "execution_count": null,
   "id": "4266da31",
   "metadata": {},
   "outputs": [],
   "source": [
    "logistic.coef_"
   ]
  },
  {
   "cell_type": "code",
   "execution_count": null,
   "id": "f861b5a5",
   "metadata": {},
   "outputs": [],
   "source": [
    "logistic.intercept_"
   ]
  },
  {
   "cell_type": "code",
   "execution_count": null,
   "id": "093d31a8",
   "metadata": {},
   "outputs": [],
   "source": [
    "# prediction from test data\n",
    "prediction = logistic.predict(test_x)"
   ]
  },
  {
   "cell_type": "code",
   "execution_count": null,
   "id": "fa8afaa7",
   "metadata": {},
   "outputs": [],
   "source": [
    "print(prediction)"
   ]
  },
  {
   "cell_type": "markdown",
   "id": "1bee132c",
   "metadata": {},
   "source": [
    "### Model evaluation"
   ]
  },
  {
   "cell_type": "code",
   "execution_count": null,
   "id": "cd393661",
   "metadata": {},
   "outputs": [],
   "source": [
    "# confusion matrix table use to evaluate the performance of classification problem \n",
    "# give number of correct prediction and number of incorrect prediction \n",
    "## diagonal sum represent number of correct predictions \n",
    "## opposite diagonal sum give number of incorrect predictions\n",
    "confusion_matrix = confusion_matrix(test_y,prediction)"
   ]
  },
  {
   "cell_type": "code",
   "execution_count": null,
   "id": "386d42d6",
   "metadata": {},
   "outputs": [],
   "source": [
    "print(confusion_matrix)"
   ]
  },
  {
   "cell_type": "code",
   "execution_count": null,
   "id": "a901fde3",
   "metadata": {
    "scrolled": true
   },
   "outputs": [],
   "source": [
    "# calculating accuracy \n",
    "accuracy_score1 = accuracy_score(test_y,prediction)"
   ]
  },
  {
   "cell_type": "code",
   "execution_count": null,
   "id": "54e37970",
   "metadata": {},
   "outputs": [],
   "source": [
    "print(accuracy_score1)"
   ]
  },
  {
   "cell_type": "code",
   "execution_count": null,
   "id": "8ae78a99",
   "metadata": {},
   "outputs": [],
   "source": [
    "# missclassified values from prediction\n",
    "print(\"Missclassified samples: %d\" % (test_y != prediction).sum())"
   ]
  },
  {
   "cell_type": "code",
   "execution_count": null,
   "id": "08d893f8",
   "metadata": {
    "scrolled": false
   },
   "outputs": [],
   "source": [
    "# logistic Regression - removing insignificant variables\n",
    "data4[\"SalStat\"] = data4[\"SalStat\"].map({' less than or equal to 50,000': 0,' greater than 50,000':1})"
   ]
  },
  {
   "cell_type": "code",
   "execution_count": null,
   "id": "1c40b683",
   "metadata": {},
   "outputs": [],
   "source": [
    "data4"
   ]
  },
  {
   "cell_type": "code",
   "execution_count": null,
   "id": "62afc382",
   "metadata": {},
   "outputs": [],
   "source": [
    "cols = ['gender','nativecountry','race','JobType']\n",
    "new_data2 = data4.drop(cols,axis=1)"
   ]
  },
  {
   "cell_type": "code",
   "execution_count": null,
   "id": "bcc7cb04",
   "metadata": {},
   "outputs": [],
   "source": [
    "new_data2 = pd.get_dummies(new_data2,drop_first=True)"
   ]
  },
  {
   "cell_type": "code",
   "execution_count": null,
   "id": "5300bbb3",
   "metadata": {},
   "outputs": [],
   "source": [
    "column_list = list(new_data2.columns)\n",
    "print(column_list)"
   ]
  },
  {
   "cell_type": "code",
   "execution_count": null,
   "id": "c5538ec2",
   "metadata": {},
   "outputs": [],
   "source": [
    "features2 = list(set(column_list)-set([\"SalStat\"]))"
   ]
  },
  {
   "cell_type": "code",
   "execution_count": null,
   "id": "4068cf4d",
   "metadata": {},
   "outputs": [],
   "source": [
    "y=new_data2[\"SalStat\"].values"
   ]
  },
  {
   "cell_type": "code",
   "execution_count": null,
   "id": "aeacdd07",
   "metadata": {},
   "outputs": [],
   "source": [
    "x=new_data2[features2].values"
   ]
  },
  {
   "cell_type": "code",
   "execution_count": null,
   "id": "a612e441",
   "metadata": {},
   "outputs": [],
   "source": [
    "train_x1,test_x1,train_y1,test_y1 = train_test_split(x,y,test_size=0.3,random_state=0)"
   ]
  },
  {
   "cell_type": "code",
   "execution_count": null,
   "id": "00a1beda",
   "metadata": {},
   "outputs": [],
   "source": [
    "logistic1 = LogisticRegression()"
   ]
  },
  {
   "cell_type": "code",
   "execution_count": null,
   "id": "f700b5c1",
   "metadata": {},
   "outputs": [],
   "source": [
    "logistic1.fit(train_x1,train_y1)"
   ]
  },
  {
   "cell_type": "code",
   "execution_count": null,
   "id": "1f0fb9fb",
   "metadata": {},
   "outputs": [],
   "source": [
    "from sklearn import linear_model\n",
    "logistic1 = linear_model.LogisticRegression(solver='lbfgs',max_iter=100000)"
   ]
  },
  {
   "cell_type": "code",
   "execution_count": null,
   "id": "313a87e8",
   "metadata": {},
   "outputs": [],
   "source": [
    "logistic1.fit(train_x1,train_y1)"
   ]
  },
  {
   "cell_type": "code",
   "execution_count": null,
   "id": "e1d54a37",
   "metadata": {},
   "outputs": [],
   "source": [
    "prediction1 = logistic1.predict(test_x1)"
   ]
  },
  {
   "cell_type": "code",
   "execution_count": null,
   "id": "658546cb",
   "metadata": {},
   "outputs": [],
   "source": [
    "from sklearn.metrics import accuracy_score,confusion_matrix"
   ]
  },
  {
   "cell_type": "code",
   "execution_count": null,
   "id": "f177debc",
   "metadata": {},
   "outputs": [],
   "source": [
    "accuracy_score2 = accuracy_score(test_y1,prediction1)"
   ]
  },
  {
   "cell_type": "code",
   "execution_count": null,
   "id": "1db75e66",
   "metadata": {},
   "outputs": [],
   "source": [
    "print(accuracy_score2)"
   ]
  },
  {
   "cell_type": "code",
   "execution_count": null,
   "id": "1d162d7b",
   "metadata": {},
   "outputs": [],
   "source": [
    "confusion_matrix = confusion_matrix(test_y1,prediction1)"
   ]
  },
  {
   "cell_type": "code",
   "execution_count": null,
   "id": "b4b59816",
   "metadata": {},
   "outputs": [],
   "source": [
    "print(confusion_matrix)"
   ]
  },
  {
   "cell_type": "code",
   "execution_count": null,
   "id": "cf521766",
   "metadata": {},
   "outputs": [],
   "source": [
    "print(\"Missclassified values %d\" % (test_y1!=prediction1).sum())"
   ]
  },
  {
   "cell_type": "markdown",
   "id": "e2b7da1b",
   "metadata": {},
   "source": [
    "### KNN classifire model to classify records in any one of the categories of salary status"
   ]
  },
  {
   "cell_type": "code",
   "execution_count": null,
   "id": "870a1067",
   "metadata": {},
   "outputs": [],
   "source": [
    "# importing the library of KNN\n",
    "from sklearn.neighbors import KNeighborsClassifier\n",
    "\n",
    "# import library for plotting\n",
    "import matplotlib.pyplot as plt"
   ]
  },
  {
   "cell_type": "code",
   "execution_count": null,
   "id": "26f2f9f2",
   "metadata": {},
   "outputs": [],
   "source": [
    "# storing the K nearest neighbors classifier\n",
    "KNN_classifier = KNeighborsClassifier(n_neighbors = 5)\n",
    "# considers 5 neighbors when classifying data into <=50,00 or >50,000\n",
    "# 5 neighbors => majority classes form 5 neighborsand then classify new data based on majority voting method  "
   ]
  },
  {
   "cell_type": "code",
   "execution_count": null,
   "id": "77d3c268",
   "metadata": {},
   "outputs": [],
   "source": [
    "KNN_classifier.fit(train_x,train_y)"
   ]
  },
  {
   "cell_type": "code",
   "execution_count": null,
   "id": "fc7de8b3",
   "metadata": {},
   "outputs": [],
   "source": [
    "prediction = KNN_classifier.predict(test_x)"
   ]
  },
  {
   "cell_type": "code",
   "execution_count": null,
   "id": "dbbf9321",
   "metadata": {},
   "outputs": [],
   "source": [
    "prediction"
   ]
  },
  {
   "cell_type": "code",
   "execution_count": null,
   "id": "950a4a0f",
   "metadata": {},
   "outputs": [],
   "source": [
    "from sklearn.metrics import accuracy_score,confusion_matrix "
   ]
  },
  {
   "cell_type": "code",
   "execution_count": null,
   "id": "f2616542",
   "metadata": {},
   "outputs": [],
   "source": [
    "confusion_matrix = confusion_matrix(test_y,prediction)"
   ]
  },
  {
   "cell_type": "code",
   "execution_count": null,
   "id": "070f0ba1",
   "metadata": {},
   "outputs": [],
   "source": [
    "confusion_matrix"
   ]
  },
  {
   "cell_type": "code",
   "execution_count": null,
   "id": "6c723197",
   "metadata": {},
   "outputs": [],
   "source": [
    "accuracy_score = accuracy_score(test_y,prediction)"
   ]
  },
  {
   "cell_type": "code",
   "execution_count": null,
   "id": "82b47650",
   "metadata": {},
   "outputs": [],
   "source": [
    "accuracy_score"
   ]
  },
  {
   "cell_type": "code",
   "execution_count": null,
   "id": "f1cc1eed",
   "metadata": {},
   "outputs": [],
   "source": [
    "print(\"Misclassified samples %d\" % (test_y != prediction).sum())"
   ]
  },
  {
   "cell_type": "markdown",
   "id": "fb10a7ec",
   "metadata": {},
   "source": [
    "## Effect of K value on classifier"
   ]
  },
  {
   "cell_type": "code",
   "execution_count": null,
   "id": "60201a9a",
   "metadata": {},
   "outputs": [],
   "source": [
    "Misclassified_samples = []"
   ]
  },
  {
   "cell_type": "code",
   "execution_count": null,
   "id": "d64bf3f4",
   "metadata": {},
   "outputs": [],
   "source": [
    "# calculating error for K values between 1 and 20\n",
    "for i in range(1,20):\n",
    "    knn = KNeighborsClassifier(n_neighbors = i)\n",
    "    knn.fit(train_x,train_y)\n",
    "    pred_i = knn.predict(test_x)\n",
    "    Misclassified_samples.append((test_y != pred_i).sum())"
   ]
  },
  {
   "cell_type": "code",
   "execution_count": null,
   "id": "47524c41",
   "metadata": {},
   "outputs": [],
   "source": [
    "print(Misclassified_samples)"
   ]
  },
  {
   "cell_type": "markdown",
   "id": "ecafc260",
   "metadata": {},
   "source": [
    "# Deployment"
   ]
  },
  {
   "cell_type": "code",
   "execution_count": null,
   "id": "bb314f7f",
   "metadata": {},
   "outputs": [],
   "source": [
    "import warnings\n",
    "import pickle"
   ]
  },
  {
   "cell_type": "code",
   "execution_count": null,
   "id": "2e8049a3",
   "metadata": {},
   "outputs": [],
   "source": [
    "pickle.dump(logistic,open('classify_model.pkl','wb'))\n",
    "modelclassify = pickle.load(open('classify_model.pkl','rb'))"
   ]
  },
  {
   "cell_type": "code",
   "execution_count": null,
   "id": "413faccf",
   "metadata": {},
   "outputs": [],
   "source": []
  }
 ],
 "metadata": {
  "kernelspec": {
   "display_name": "Python 3 (ipykernel)",
   "language": "python",
   "name": "python3"
  },
  "language_info": {
   "codemirror_mode": {
    "name": "ipython",
    "version": 3
   },
   "file_extension": ".py",
   "mimetype": "text/x-python",
   "name": "python",
   "nbconvert_exporter": "python",
   "pygments_lexer": "ipython3",
   "version": "3.9.12"
  }
 },
 "nbformat": 4,
 "nbformat_minor": 5
}
